{
 "cells": [
  {
   "cell_type": "markdown",
   "id": "introduction",
   "metadata": {
    "id": "introduction"
   },
   "source": [
    "# Dimensionality Reduction"
   ]
  },
  {
   "cell_type": "markdown",
   "id": "c3802b3e",
   "metadata": {
    "id": "c3802b3e"
   },
   "source": [
    "__Notebook Author__: Hamed Qazanfari\n",
    "\n",
    "[![Open In Colab](https://colab.research.google.com/assets/colab-badge.svg)](https://colab.research.google.com/github/hamedmit/Classic-ML-Algorithms/blob/main/Unsupervised_Learning/Dimensionality_Reduction/Introduction_and_Applications.ipynb)\n",
    "[![Open In kaggle](https://kaggle.com/static/images/open-in-kaggle.svg)](https://kaggle.com/kernels/welcome?src=https://raw.githubusercontent.com/hamedmit/Classic-ML-Algorithms/blob/main/Unsupervised_Learning/Dimensionality_Reduction/Introduction_and_Applications.ipynb)\n",
    "\n",
    "---\n",
    "## 1. Introduction to Dimensionality Reduction\n",
    "\n",
    "### What is Dimensionality Reduction?\n",
    "\n",
    "In the realm of machine learning and data analysis, we frequently work with datasets that have a high number of features (dimensions). While more features can potentially provide more information, high-dimensional data often presents several challenges:\n",
    "\n",
    "- **Curse of Dimensionality**: As the number of dimensions increases, the volume of the feature space grows exponentially, making the data sparse. This sparsity can degrade the performance of machine learning algorithms, as they struggle to find patterns in the data.\n",
    "- **Computational Complexity**: High-dimensional data increases the computational cost and time for processing and modeling.\n",
    "- **Overfitting**: Models trained on high-dimensional data can overfit, capturing noise instead of the underlying patterns.\n",
    "- **Difficulty in Visualization**: Visualizing data beyond three dimensions is non-trivial, limiting our ability to intuitively understand and explore the data.\n",
    "\n",
    "**Dimensionality Reduction** refers to the process of reducing the number of input variables in a dataset while preserving as much information as possible. This simplification helps in making the data more manageable and can improve the performance of machine learning models.\n",
    "\n",
    "Dimensionality reduction techniques are broadly categorized into:\n",
    "\n",
    "- **Feature Selection**: Selecting a subset of the most significant features.\n",
    "- **Feature Extraction**: Transforming the data into a lower-dimensional space (e.g., using PCA) by creating new features that are combinations of the original features."
   ]
  },
  {
   "cell_type": "markdown",
   "id": "applications",
   "metadata": {
    "id": "applications"
   },
   "source": [
    "## 2. Applications of Dimensionality Reduction\n",
    "\n",
    "Dimensionality reduction has several crucial applications and we will explore the following applications:\n",
    "\n",
    "- **Data Visualization**: By reducing data to two or three dimensions, we can create visual representations that help in identifying patterns, clusters, and outliers.\n",
    "- **Noise Reduction**: Eliminating less important features can reduce noise, leading to cleaner data and better model performance.\n",
    "- **Feature Extraction**: Helps in identifying and combining features that capture the most variance in the data.\n",
    "- **Speeding Up Algorithms**: Simplifying data reduces computational requirements, leading to faster training and prediction times.\n",
    "- **Preventing Overfitting**: Reducing the number of features decreases model complexity, which can prevent overfitting and improve generalization to new data."
   ]
  },
  {
   "cell_type": "markdown",
   "id": "data-visualization",
   "metadata": {
    "id": "data-visualization"
   },
   "source": [
    "### 2.1 Data Visualization\n",
    "\n",
    "**Dataset**: MNIST Handwritten Digits Dataset\n",
    "\n",
    "**Description**:\n",
    "\n",
    "The MNIST dataset consists of 70,000 images of handwritten digits (0-9), each of size 28x28 pixels, resulting in a 784-dimensional feature space. Visualizing this high-dimensional data is challenging.\n",
    "\n",
    "**Objective**:\n",
    "\n",
    "- Use PCA to reduce the dimensionality of the MNIST dataset from 784 to 2 dimensions.\n",
    "- Visualize the data in 2D to observe patterns and clusters.\n",
    "\n",
    "**Visualization**:\n",
    "\n",
    "![MNIST PCA Visualization](pics/mnist_pca_visualizations.png)"
   ]
  },
  {
   "cell_type": "markdown",
   "id": "noise-reduction",
   "metadata": {
    "id": "noise-reduction"
   },
   "source": [
    "### 2.2 Noise Reduction\n",
    "\n",
    "**Dataset**: Fashion MNIST Dataset with Added Noise\n",
    "\n",
    "**Description**:\n",
    "\n",
    "The Fashion MNIST dataset is similar to MNIST but contains images of clothing items. We'll add noise to the images and use PCA to reconstruct them, effectively reducing noise.\n",
    "\n",
    "**Objective**:\n",
    "\n",
    "- Add Gaussian noise to the images.\n",
    "- Use PCA to reconstruct the images from a reduced number of components.\n",
    "- Compare original, noisy, and reconstructed images to observe noise reduction.\n",
    "\n",
    "**Visualization**:\n",
    "\n",
    "![Fashion MNIST Noise Reduction](pics/fashion_mnist_noise_reduction.png)"
   ]
  },
  {
   "cell_type": "markdown",
   "id": "feature-extraction",
   "metadata": {
    "id": "feature-extraction"
   },
   "source": [
    "### 2.3 Feature Extraction\n",
    "\n",
    "**Dataset**: Labeled Faces in the Wild (LFW)\n",
    "\n",
    "**Description**:\n",
    "\n",
    "The LFW dataset consists of images of faces collected from the web. Each face is represented by high-dimensional pixel data.\n",
    "\n",
    "**Objective**:\n",
    "\n",
    "- Use PCA to extract principal components known as \"eigenfaces\".\n",
    "- Visualize the eigenfaces to understand the most significant features in the dataset.\n",
    "\n",
    "**Visualization**:\n",
    "\n",
    "![LFW Eigenfaces](pics/lfw_eigenfaces.png)"
   ]
  },
  {
   "cell_type": "markdown",
   "id": "db1f5192",
   "metadata": {
    "id": "db1f5192"
   },
   
    
